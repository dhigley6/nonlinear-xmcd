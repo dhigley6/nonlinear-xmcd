{
 "cells": [
  {
   "cell_type": "markdown",
   "metadata": {},
   "source": [
    "# Data Analysis\n",
    "\n",
    "This notebook runs the analysis used to make the source data underlying the figures in the manuscript \"Femtosecond X-Ray Induced Changes of the Electronic and Magnetic Response of Solids from Electron Redistribution\" by D. J. Higley and others."
   ]
  },
  {
   "cell_type": "code",
   "execution_count": 1,
   "metadata": {},
   "outputs": [
    {
     "name": "stdout",
     "output_type": "stream",
     "text": [
      "Using matplotlib backend: MacOSX\n",
      "Automatic pdb calling has been turned ON\n"
     ]
    }
   ],
   "source": [
    "%matplotlib auto\n",
    "%pdb\n",
    "# Import standard python modules\n",
    "import sys\n",
    "sys.path.append('../')\n",
    "import xlsxwriter"
   ]
  },
  {
   "cell_type": "code",
   "execution_count": 2,
   "metadata": {},
   "outputs": [
    {
     "name": "stderr",
     "output_type": "stream",
     "text": [
      "/Users/dhigley/anaconda3/lib/python3.6/site-packages/h5py/__init__.py:36: FutureWarning: Conversion of the second argument of issubdtype from `float` to `np.floating` is deprecated. In future, it will be treated as `np.float64 == np.dtype(float).type`.\n",
      "  from ._conv import register_converters as _register_converters\n"
     ]
    }
   ],
   "source": [
    "# Calibrate signals\n",
    "import calibrate_signals\n",
    "calibrate_signals.do_dark_calibration()\n",
    "calibrate_signals.do_andor_saturation_calibration()\n",
    "calibrate_signals.do_mcp_nonlinearity_calibration()"
   ]
  },
  {
   "cell_type": "code",
   "execution_count": 3,
   "metadata": {},
   "outputs": [
    {
     "name": "stdout",
     "output_type": "stream",
     "text": [
      "\n",
      "Fitting runs [124, 125] to ALS:\n",
      "Photon energy scaling: 1.0000623628844374\n",
      "Photon energy shift: 0.048509022733438996\n",
      "Spectrum scaling: 1.0026191653207017\n",
      "Spectrum shift: -0.002712826109781502\n",
      "Spectrum slope: 3.0147581812856205e-06\n",
      "***Calculated Calibration Coefficients***\n",
      "phot_scale 0.006458440559511452\n",
      "phot_shift -1585.7681074326988\n",
      "norm_offset 6.357233507932551\n",
      "norm_slope -0.021673045867740926\n",
      "\n",
      "Fitting runs [126, 127] to ALS:\n",
      "Photon energy scaling: 1.0\n",
      "Photon energy shift: 0.0\n",
      "Spectrum scaling: 1.0\n",
      "Spectrum shift: 10.470037473052422\n",
      "Spectrum slope: -0.013099574987402282\n",
      "***Calculated Calibration Coefficients***\n",
      "phot_scale 0.006458440559511452\n",
      "phot_shift -1585.7681074326988\n",
      "norm_offset 6.635801640785997\n",
      "norm_slope -0.03477262085514321\n",
      "\n",
      "Fitting runs [109, 111, 117, 118] to ALS:\n",
      "Photon energy scaling: 1.0\n",
      "Photon energy shift: 0.0\n",
      "Spectrum scaling: 1.0\n",
      "Spectrum shift: 15.534377197151574\n",
      "Spectrum slope: -0.01766441847817141\n",
      "***Calculated Calibration Coefficients***\n",
      "phot_scale 0.006458440559511452\n",
      "phot_shift -1585.7681074326988\n",
      "norm_offset 8.14869312906677\n",
      "norm_slope -0.039337464345912336\n"
     ]
    }
   ],
   "source": [
    "# Calibrate spectra\n",
    "import calibrate_spectra\n",
    "calibrate_spectra.do_cals()"
   ]
  },
  {
   "cell_type": "code",
   "execution_count": 4,
   "metadata": {},
   "outputs": [
    {
     "name": "stderr",
     "output_type": "stream",
     "text": [
      "../norm_data.py:52: RuntimeWarning: invalid value encountered in sqrt\n",
      "  weight_sig_std = np.sqrt(weight_sig_var)\n"
     ]
    },
    {
     "name": "stdout",
     "output_type": "stream",
     "text": [
      "Caclulated fraction of energy within 2 eV of Fermi level of \n",
      "[0.83334498]\n",
      "Calculated cascasde duration of\n",
      "13.0 fs\n"
     ]
    }
   ],
   "source": [
    "# Calculate spectra and quantification of spectral changes\n",
    "# Make source data file and print calculated percent of energy within\n",
    "# 2 eV of the Fermi level as well as calculated cascade duration\n",
    "import abs_get_processed_data\n",
    "abs_get_processed_data.save_incident_specs()\n",
    "abs_get_processed_data.save_constant_absorbed_specs()\n",
    "abs_get_processed_data.save_damage_specs()\n",
    "abs_get_processed_data.save_spec_quantification()"
   ]
  },
  {
   "cell_type": "code",
   "execution_count": 5,
   "metadata": {},
   "outputs": [
    {
     "name": "stderr",
     "output_type": "stream",
     "text": [
      "/Users/dhigley/anaconda3/lib/python3.6/site-packages/matplotlib/font_manager.py:1328: UserWarning: findfont: Font family ['Times'] not found. Falling back to DejaVu Sans\n",
      "  (prop.get_family(), self.defaultFamily[fontext]))\n"
     ]
    }
   ],
   "source": [
    "# Make source data file\n",
    "import make_source_data\n",
    "source_data_workbook = xlsxwriter.Workbook('../../data/source_data.xlsx')\n",
    "make_source_data.figure2.get_and_save_source_data(source_data_workbook)\n",
    "make_source_data.figure2.sanity_plot()\n",
    "make_source_data.figure3.get_and_save_source_data(source_data_workbook)\n",
    "make_source_data.figure3.sanity_plot()\n",
    "make_source_data.figure4.get_and_save_source_data(source_data_workbook)\n",
    "make_source_data.figure4.sanity_plot()\n",
    "make_source_data.figure_s1.get_and_save_source_data(source_data_workbook)\n",
    "make_source_data.figure_s1.sanity_plot()\n",
    "make_source_data.figure_s2.get_and_save_source_data(source_data_workbook)\n",
    "make_source_data.figure_s2.sanity_plot()\n",
    "make_source_data.figure_s3.get_and_save_source_data(source_data_workbook)\n",
    "make_source_data.figure_s3.sanity_plot()\n",
    "make_source_data.figure_s4.get_and_save_source_data(source_data_workbook)\n",
    "make_source_data.figure_s4.sanity_plot()\n",
    "\n",
    "source_data_workbook.close()"
   ]
  },
  {
   "cell_type": "code",
   "execution_count": 6,
   "metadata": {},
   "outputs": [
    {
     "name": "stderr",
     "output_type": "stream",
     "text": [
      "/Users/dhigley/anaconda3/lib/python3.6/site-packages/matplotlib/cbook/deprecation.py:107: MatplotlibDeprecationWarning: Passing one of 'on', 'true', 'off', 'false' as a boolean is deprecated; use an actual boolean (True/False) instead.\n",
      "  warnings.warn(message, mplDeprecation, stacklevel=1)\n",
      "/Users/dhigley/anaconda3/lib/python3.6/site-packages/matplotlib/font_manager.py:1328: UserWarning: findfont: Font family ['Times'] not found. Falling back to DejaVu Sans\n",
      "  (prop.get_family(), self.defaultFamily[fontext]))\n"
     ]
    }
   ],
   "source": [
    "import visualize\n",
    "#visualize.overall_plot.make_plot()\n",
    "#visualize.constant_plot.constant_plot2()\n",
    "visualize.quant_plot.make_figure()\n",
    "#visualize.loop_plotter.run()\n",
    "#visualize.raw_data_plot.make_plot()\n",
    "#visualize.damage_plot.make_plot()"
   ]
  },
  {
   "cell_type": "code",
   "execution_count": null,
   "metadata": {},
   "outputs": [],
   "source": []
  }
 ],
 "metadata": {
  "kernelspec": {
   "display_name": "Python 3",
   "language": "python",
   "name": "python3"
  },
  "language_info": {
   "codemirror_mode": {
    "name": "ipython",
    "version": 3
   },
   "file_extension": ".py",
   "mimetype": "text/x-python",
   "name": "python",
   "nbconvert_exporter": "python",
   "pygments_lexer": "ipython3",
   "version": "3.6.5"
  }
 },
 "nbformat": 4,
 "nbformat_minor": 2
}
