{
 "cells": [
  {
   "cell_type": "markdown",
   "metadata": {},
   "source": [
    "# Simulations of optically-induced demagnetization\n",
    "Here, we simulate the optically-induced demagnetization within the microscopic three temperature model (M3TM) introduced by Koopmans and others. For simplicity, we ignore z-dependence."
   ]
  },
  {
   "cell_type": "markdown",
   "metadata": {},
   "source": [
    "The M3TM equations are given in (Koopmans 2010) as\n",
    "\\begin{equation}\n",
    "C_e[T_e] = \\gamma T_e\n",
    "\\end{equation}\n",
    "\\begin{equation}\n",
    "C_e\\frac{dT_e}{dt} = \\frac{\\partial}{\\partial z}\\left(\\kappa \\frac{\\partial}{\\partial z}T_e\\right)+g_{ep}[T_p-T_e]+P_{pump}\n",
    "\\end{equation}\n",
    "\\begin{equation}\n",
    "C_p\\frac{dT_p}{dt} =g_{ep}[T_e-T_p]\n",
    "\\end{equation}\n",
    "\\begin{equation}\n",
    "\\frac{dm}{dt} = Rm\\frac{T_P}{T_C}\\left[1-m\\coth\\left(\\frac{mT_C}{T_e}\\right)\\right]\n",
    "\\end{equation}"
   ]
  },
  {
   "cell_type": "markdown",
   "metadata": {},
   "source": [
    "To simplify modelling, we neglect z-dependence, giving\n",
    "\\begin{equation}\n",
    "C_e[T_e]\\frac{dT_e}{dt} = g_{e-ph}[T_p-T_e]+P(t)\n",
    "\\end{equation}\n",
    "\\begin{equation}\n",
    "C_{ph}\\frac{dT_{ph}}{dt} = g_{e-ph}[T_e-T_p]\n",
    "\\end{equation}\n",
    "\\begin{equation}\n",
    "\\frac{dm}{dt} = Rm\\frac{T_p}{T_C}\\left[1-m\\coth\\left(\\frac{mT_C}{T_e}\\right)\\right]\n",
    "\\end{equation}"
   ]
  },
  {
   "cell_type": "code",
   "execution_count": 1,
   "metadata": {},
   "outputs": [
    {
     "name": "stderr",
     "output_type": "stream",
     "text": [
      "/Users/dhigley/anaconda3/lib/python3.6/site-packages/h5py/__init__.py:36: FutureWarning: Conversion of the second argument of issubdtype from `float` to `np.floating` is deprecated. In future, it will be treated as `np.float64 == np.dtype(float).type`.\n",
      "  from ._conv import register_converters as _register_converters\n"
     ]
    }
   ],
   "source": [
    "# Import standard python modules\n",
    "import numpy as np\n",
    "import matplotlib.pyplot as plt\n",
    "from scipy import optimize\n",
    "\n",
    "import sys\n",
    "sys.path.append('../')\n",
    "import visualize\n",
    "visualize.set_plot_params.init_paper_small()"
   ]
  },
  {
   "cell_type": "code",
   "execution_count": 2,
   "metadata": {},
   "outputs": [
    {
     "data": {
      "text/plain": [
       "'Conversion from J/m^3 to eV/atom:\\nx [J/m^3] = (x [eV/atom])(rho [atoms/nm^3])(10^27 [nm^3/m^3])(1.602*10^(-19) [J/eV])\\nor\\nx [J/m^3] = (x [eV/atom])(rho [atoms/nm^3])(1.602*10^(8))\\nwhere rho is the atomic density in atoms/nm^3\\n\\nCobalt has 90.5 atoms/nm^3\\n-> 260 meV/atom = 3.769 GJ/m^3\\n, 278.6 meV/atom = 4.039 GJ/m^3\\n\\nCo/Pt has 77.4 atoms/nm^3\\n-> 260 meV/atom = 3.224 GJ/m^3\\n, 278.6 meV/atom = 3.454 GJ/m^3\\n'"
      ]
     },
     "execution_count": 2,
     "metadata": {},
     "output_type": "execute_result"
    }
   ],
   "source": [
    "# Material constants, as taken from D. J. Higley's thesis, p. 59\n",
    "Co_constants = {'Cp': 2.07*1E6,\n",
    "                'gamma': 665,\n",
    "                'g_ep': 405*1E6,\n",
    "                'TC': 1388,\n",
    "                'R': 25.3*1E12}\n",
    "Co_Pt_constants = {'Cp': 2.98*1E6,\n",
    "                   'gamma': 720,\n",
    "                   'g_ep': 264*1E6,\n",
    "                   'TC': 550,\n",
    "                   'R': 9.396*1E12}\n",
    "\n",
    "\"\"\"Units:\n",
    "Cp: Jm^(-3)K^(-1)\n",
    "gamma: Jm^(-3)K^(-2)\n",
    "g_ep: J(sm^3K)^(-1)\n",
    "TC: K\n",
    "R: s^(-1)\n",
    "\"\"\"\n",
    "\n",
    "\"\"\"Definitions:\n",
    "Cp: lattice heat capacity\n",
    "gamma: Ce = gamma*Te with Ce being the electronic heat capacity, and Te the electronic temperature\n",
    "g_ep: electron-phonon coupling constant\n",
    "TC: Curie temperature\n",
    "R: material-specific scaling factor of demagnetization rate\n",
    "\"\"\"\n",
    "\n",
    "\"\"\"Conversion from J/m^3 to eV/atom:\n",
    "x [J/m^3] = (x [eV/atom])(rho [atoms/nm^3])(10^27 [nm^3/m^3])(1.602*10^(-19) [J/eV])\n",
    "or\n",
    "x [J/m^3] = (x [eV/atom])(rho [atoms/nm^3])(1.602*10^(8))\n",
    "where rho is the atomic density in atoms/nm^3\n",
    "\n",
    "Cobalt has 90.5 atoms/nm^3\n",
    "-> 260 meV/atom = 3.769 GJ/m^3\n",
    ", 278.6 meV/atom = 4.039 GJ/m^3\n",
    "\n",
    "Co/Pt has 77.4 atoms/nm^3\n",
    "-> 260 meV/atom = 3.224 GJ/m^3\n",
    ", 278.6 meV/atom = 3.454 GJ/m^3\n",
    "\"\"\""
   ]
  },
  {
   "cell_type": "code",
   "execution_count": 3,
   "metadata": {},
   "outputs": [],
   "source": [
    "class M3TM_Sample:\n",
    "    \"\"\"Numerically calculate sample properties within 'microscopic 3 temperature model' (M3TM)\n",
    "    Neglects z-dependence for simplicity.\n",
    "    Uses Euler method to solve the first-order differential equations given\n",
    "    by the microscopic three temperature model.\n",
    "    \"\"\"\n",
    "    \n",
    "    def __init__(self, material_constants, Te, Tph, t0=0):\n",
    "        self.material_constants = material_constants\n",
    "        self.Te = Te\n",
    "        self.Tph = Tph\n",
    "        self.m = self._calc_initial_m()\n",
    "        self.t = t0\n",
    "        # history will keep track of the previous states of the sample\n",
    "        # so that they can be plotted and such.\n",
    "        self.history = {'t': [self.t],\n",
    "                        'Te': [self.Te],\n",
    "                        'Tph': [self.Tph],\n",
    "                        'm': [self.m]}\n",
    "        \n",
    "    def _calc_initial_m(self):\n",
    "        \"\"\"Calculate the initial value of the magnetization (m).\n",
    "        Finds m as the value when dm/dt = 0 for the initial conditions\"\"\"\n",
    "        \n",
    "        def set_to_zero(m):\n",
    "            return 1-m*(1/np.tanh(m*self.material_constants['TC']/self.Te))\n",
    "        \n",
    "        sol = optimize.root(set_to_zero, [1])\n",
    "        return sol.x[0]\n",
    "        \n",
    "    def step_t(self, delta_t, abs_energy_density):\n",
    "        self.t = self.t+delta_t\n",
    "        self._update_Te(delta_t, abs_energy_density)\n",
    "        self._update_Tph(delta_t)\n",
    "        self._update_m(delta_t)\n",
    "        self._update_history()\n",
    "    \n",
    "\n",
    "    def _update_Te(self, delta_t, abs_energy_density):\n",
    "        mc = self.material_constants\n",
    "        Ce = mc['gamma']*self.Te\n",
    "        dTe_dt = (mc['g_ep']*(self.Tph-self.Te)+abs_energy_density)/Ce\n",
    "        delta_Te = dTe_dt*delta_t\n",
    "        self.Te = self.Te+delta_Te\n",
    "\n",
    "    def _update_Tph(self, delta_t):\n",
    "        mc = self.material_constants\n",
    "        dTph_dt = (mc['g_ep']*(self.Te-self.Tph))/mc['Cp']\n",
    "        delta_Tph = dTph_dt*delta_t\n",
    "        self.Tph = self.Tph+delta_Tph\n",
    "\n",
    "    def _update_m(self, delta_t):\n",
    "        mc = self.material_constants\n",
    "        factor = 1-self.m*(1/np.tanh(self.m*mc['TC']/self.Te))\n",
    "        dm_dt = mc['R']*self.m*(self.Tph/mc['TC'])*factor\n",
    "        delta_m = dm_dt*delta_t\n",
    "        self.m = self.m+delta_m\n",
    "    \n",
    "    def _update_history(self):\n",
    "        self.history['t'].append(self.t)\n",
    "        self.history['Te'].append(self.Te)\n",
    "        self.history['Tph'].append(self.Tph)\n",
    "        self.history['m'].append(self.m)"
   ]
  },
  {
   "cell_type": "code",
   "execution_count": 4,
   "metadata": {},
   "outputs": [],
   "source": [
    "def make_pulse(times, integrated_strength, fwhm=10E-15):\n",
    "    \"\"\"Return a Gaussian pulse with the specified integrated strength and fwhm\"\"\"\n",
    "    sigma = fwhm/(2*np.sqrt(2*np.log(2)))\n",
    "    gauss = np.exp(-(times**2)/(2*(sigma)**2))\n",
    "    gauss_integral = np.trapz(gauss, times)\n",
    "    pulse = gauss*integrated_strength/gauss_integral\n",
    "    return pulse"
   ]
  },
  {
   "cell_type": "code",
   "execution_count": 5,
   "metadata": {},
   "outputs": [
    {
     "name": "stderr",
     "output_type": "stream",
     "text": [
      "/Users/dhigley/anaconda3/lib/python3.6/site-packages/ipykernel_launcher.py:2: DeprecationWarning: object of type <class 'float'> cannot be safely interpreted as an integer.\n",
      "  \n"
     ]
    }
   ],
   "source": [
    "# Run simulations for Co and Co_Pt\n",
    "times = np.linspace(-100E-15, 100E-15, 1E5)\n",
    "delta_t = times[1]-times[0]\n",
    "Co_sample = M3TM_Sample(Co_constants, 273.15, 273.15, t0=times[0])\n",
    "Co_Pt_sample = M3TM_Sample(Co_Pt_constants, 273.15, 273.15, t0=times[0])\n",
    "total_abs_energy_density_Co = 4.039E9  # J/m^3\n",
    "total_abs_energy_density_Co_pt = 3.454E9  # J/m^3\n",
    "Co_pulse = make_pulse(times, total_abs_energy_density_Co, fwhm=39E-15)\n",
    "Co_pt_pulse = make_pulse(times, total_abs_energy_density_Co_pt, fwhm=39E-15)\n",
    "for ind, t in enumerate(times[1:]):\n",
    "    Co_sample.step_t(delta_t, Co_pulse[ind])\n",
    "    Co_Pt_sample.step_t(delta_t, Co_pt_pulse[ind])    "
   ]
  },
  {
   "cell_type": "code",
   "execution_count": 6,
   "metadata": {},
   "outputs": [
    {
     "name": "stdout",
     "output_type": "stream",
     "text": [
      "0.9217446105712218\n",
      "0.7653202215957867\n"
     ]
    }
   ],
   "source": [
    "def calc_integrated_pulse_magnetization(pulse, magnetization):\n",
    "    \"\"\"Calculate the average magnetization that would be measured by the input pulse\"\"\"\n",
    "    measured = np.trapz(pulse*magnetization)/np.trapz(pulse)\n",
    "    measured = measured/magnetization[0]    # normalize to starting value of magnetization\n",
    "    return measured\n",
    "\n",
    "def calc_integrated_pulse_temperature(pulse, temperature):\n",
    "    measured = np.trapz(pulse*temperature)/np.trapz(pulse)\n",
    "    return measured\n",
    "\n",
    "# Calculate magnetization that would be measured in Co and Co/Pt cases\n",
    "Co_measured_magnetization = calc_integrated_pulse_magnetization(Co_pulse, Co_sample.history['m'])\n",
    "print(Co_measured_magnetization)\n",
    "Co_Pt_measured_magnetization = calc_integrated_pulse_magnetization(Co_pt_pulse, Co_Pt_sample.history['m'])\n",
    "print(Co_Pt_measured_magnetization)"
   ]
  },
  {
   "cell_type": "code",
   "execution_count": 7,
   "metadata": {},
   "outputs": [
    {
     "name": "stdout",
     "output_type": "stream",
     "text": [
      "2343.8540554475367\n",
      "2087.7056974449133\n"
     ]
    },
    {
     "name": "stderr",
     "output_type": "stream",
     "text": [
      "/Users/dhigley/anaconda3/lib/python3.6/site-packages/matplotlib/font_manager.py:1328: UserWarning: findfont: Font family ['Times'] not found. Falling back to DejaVu Sans\n",
      "  (prop.get_family(), self.defaultFamily[fontext]))\n"
     ]
    },
    {
     "data": {
      "image/png": "[encoded data removed]",
      "text/plain": [
       "<Figure size 242.64x242.64 with 2 Axes>"
      ]
     },
     "metadata": {},
     "output_type": "display_data"
    }
   ],
   "source": [
    "# Make a summary figure for 2019 manuscript\n",
    "#% matplotlib auto\n",
    "f, axs = plt.subplots(2, 1, sharex=True, figsize=(3.37, 3.37))\n",
    "axs[0].plot(times*1E15, Co_pulse/np.amax(Co_pulse), 'k', label='Pulse')\n",
    "axs[0].plot(times*1E15, Co_sample.history['m'], '--k', label='Co M')\n",
    "axs[0].plot(times*1E15, Co_Pt_sample.history['m'], ':k', label='Co/Pt M')\n",
    "axs[0].legend(loc='lower center', frameon=False)\n",
    "axs[0].set_xlim((-75, 75))\n",
    "axs[1].set_xlabel('Time (fs)')\n",
    "axs[0].set_ylabel('Magnitude (a.u.)')\n",
    "#plt.gca().set_ylim((-0.2, 1.4))\n",
    "#plt.savefig('2019_06_23_simulated_demag.eps', dpi=600)\n",
    "#plt.savefig('2019_06_23_simulated_demag.jpg', dpi=600)\n",
    "\n",
    "axs[1].plot(times*1E15, Co_sample.history['Te'], '--k', label='Co T$_e$')\n",
    "axs[1].plot(times*1E15, Co_Pt_sample.history['Te'], ':k', label='Co/Pt T$_e$')\n",
    "axs[1].legend(loc='upper left', frameon=False)\n",
    "axs[1].set_ylabel('Temperature (K)')\n",
    "Co_averaged_Te = calc_integrated_pulse_temperature(Co_pulse, Co_sample.history['Te'])\n",
    "print(Co_averaged_Te)\n",
    "Co_Pt_averaged_Te = calc_integrated_pulse_temperature(Co_pt_pulse, Co_Pt_sample.history['Te'])\n",
    "print(Co_Pt_averaged_Te)\n",
    "\n",
    "axs[0].text(0.9, 0.85, 'A', transform=axs[0].transAxes)\n",
    "axs[1].text(0.9, 0.7, 'B', transform=axs[1].transAxes)\n",
    "plt.tight_layout(h_pad=0)\n",
    "plt.savefig('2019_07_05_simulated_demag.eps', dpi=600)\n",
    "plt.savefig('../visualize/figure_s4.eps', dpi=600)\n",
    "plt.savefig('../visualize/figure_s4.jpg', dpi=600)\n",
    "plt.savefig('2019_07_05_simulated_demag.jpg', dpi=600)"
   ]
  },
  {
   "cell_type": "code",
   "execution_count": 8,
   "metadata": {},
   "outputs": [],
   "source": [
    "# Save source data\n",
    "source_data = {'time (fs)': times*1E15,\n",
    "               'pulse': Co_pulse/np.amax(Co_pulse),\n",
    "               'Co M': Co_sample.history['m'],\n",
    "               'Co/Pt M': Co_Pt_sample.history['m'],\n",
    "               'Co Te (K)': Co_sample.history['Te'],\n",
    "               'Co/Pt Te (K)': Co_Pt_sample.history['Te']}\n",
    "\n",
    "import pickle\n",
    "pickle_on = open('../../data/demag_simulation.p', 'wb')\n",
    "pickle.dump(source_data, pickle_on)\n",
    "pickle_on.close()\n"
   ]
  },
  {
   "cell_type": "markdown",
   "metadata": {},
   "source": [
    "## Useful references:\n",
    "1. B. Koopmans, G. Malinowski, F. Dalla Longa, D. Steiauf, M. F¨ahnle, T. Roth, M. Cinchetti,\n",
    "and M. Aeschlimann, “Explaining the paradoxical diversity of ultrafast laser-induced demagnetization,”\n",
    "Nature Materials, vol. 9, no. 3, p. 259, 2010.\n",
    "2. K. Kuiper, T. Roth, A. Schellekens, O. Schmitt, B. Koopmans, M. Cinchetti, and M. Aeschlimann,\n",
    "“Spin-orbit enhanced demagnetization rate in Co/Pt-multilayers,” Applied Physics Letters,\n",
    "vol. 105, no. 20, p. 202402, 2014.\n",
    "3. N. Bergeard et al., \"Hot-electron-induced ultrafast demagnetization in Co/Pt multilayers\", PRL (2016)"
   ]
  }
 ],
 "metadata": {
  "kernelspec": {
   "display_name": "Python 3",
   "language": "python",
   "name": "python3"
  },
  "language_info": {
   "codemirror_mode": {
    "name": "ipython",
    "version": 3
   },
   "file_extension": ".py",
   "mimetype": "text/x-python",
   "name": "python",
   "nbconvert_exporter": "python",
   "pygments_lexer": "ipython3",
   "version": "3.6.5"
  }
 },
 "nbformat": 4,
 "nbformat_minor": 2
}
